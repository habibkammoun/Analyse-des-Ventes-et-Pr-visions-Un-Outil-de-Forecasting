{
  "nbformat": 4,
  "nbformat_minor": 0,
  "metadata": {
    "colab": {
      "provenance": []
    },
    "kernelspec": {
      "name": "python3",
      "display_name": "Python 3"
    },
    "language_info": {
      "name": "python"
    }
  },
  "cells": [
    {
      "cell_type": "markdown",
      "source": [
        "# **Packages' Import**"
      ],
      "metadata": {
        "id": "GHhJ3Q57zKY0"
      }
    },
    {
      "cell_type": "code",
      "source": [
        "import pandas            as pd                                   # Library for Read/Write IO File (CSV, Excel, TXT, JSON, etc.)\n",
        "import matplotlib.pyplot as plt                                  # Library for plotting and figures\n",
        "from tensorflow.keras.models import Sequential                    # Importation of sequantial Model for LSTM\n",
        "from tensorflow.keras.layers import LSTM,Dense                    # Importation of LSTM Units\n",
        "from sklearn.metrics        import mean_squared_error            # Mean Squared Error for forecasting performance evaluation\n",
        "from sklearn.metrics        import mean_absolute_error           # Mean Absolute Error for forecasting performance evaluation\n",
        "from sklearn.metrics        import mean_absolute_percentage_error# MAPE for evaluation the percentage of error"
      ],
      "metadata": {
        "id": "fTLye-DwzRaD"
      },
      "execution_count": 4,
      "outputs": []
    },
    {
      "cell_type": "markdown",
      "source": [
        "# **Step 1 - Business & Data Understanding**"
      ],
      "metadata": {
        "id": "7pSuWj2Szyp9"
      }
    },
    {
      "cell_type": "markdown",
      "source": [
        "The goal of this step is to:\n",
        "* identify the number of samples;\n",
        "* identify the type of forecasting;\n",
        "* study the stationarity of your time series.\n"
      ],
      "metadata": {
        "id": "t3SoI8lp1AsM"
      }
    },
    {
      "cell_type": "code",
      "source": [
        "df=pd.read_csv(\"/content/AirPassengers (1).csv\")        # Read dataset using read_csv(filepath) function\n",
        "df.head()                                               # Display the first five rows"
      ],
      "metadata": {
        "colab": {
          "base_uri": "https://localhost:8080/",
          "height": 206
        },
        "id": "BoXorDCkzxR4",
        "outputId": "99c09c45-16ef-4e16-8b96-ce7ef1cb6f46"
      },
      "execution_count": 5,
      "outputs": [
        {
          "output_type": "execute_result",
          "data": {
            "text/plain": [
              "     Month  #Passengers\n",
              "0  1949-01          112\n",
              "1  1949-02          118\n",
              "2  1949-03          132\n",
              "3  1949-04          129\n",
              "4  1949-05          121"
            ],
            "text/html": [
              "\n",
              "  <div id=\"df-71c64cb6-1e56-464d-a9d9-dc721880130f\" class=\"colab-df-container\">\n",
              "    <div>\n",
              "<style scoped>\n",
              "    .dataframe tbody tr th:only-of-type {\n",
              "        vertical-align: middle;\n",
              "    }\n",
              "\n",
              "    .dataframe tbody tr th {\n",
              "        vertical-align: top;\n",
              "    }\n",
              "\n",
              "    .dataframe thead th {\n",
              "        text-align: right;\n",
              "    }\n",
              "</style>\n",
              "<table border=\"1\" class=\"dataframe\">\n",
              "  <thead>\n",
              "    <tr style=\"text-align: right;\">\n",
              "      <th></th>\n",
              "      <th>Month</th>\n",
              "      <th>#Passengers</th>\n",
              "    </tr>\n",
              "  </thead>\n",
              "  <tbody>\n",
              "    <tr>\n",
              "      <th>0</th>\n",
              "      <td>1949-01</td>\n",
              "      <td>112</td>\n",
              "    </tr>\n",
              "    <tr>\n",
              "      <th>1</th>\n",
              "      <td>1949-02</td>\n",
              "      <td>118</td>\n",
              "    </tr>\n",
              "    <tr>\n",
              "      <th>2</th>\n",
              "      <td>1949-03</td>\n",
              "      <td>132</td>\n",
              "    </tr>\n",
              "    <tr>\n",
              "      <th>3</th>\n",
              "      <td>1949-04</td>\n",
              "      <td>129</td>\n",
              "    </tr>\n",
              "    <tr>\n",
              "      <th>4</th>\n",
              "      <td>1949-05</td>\n",
              "      <td>121</td>\n",
              "    </tr>\n",
              "  </tbody>\n",
              "</table>\n",
              "</div>\n",
              "    <div class=\"colab-df-buttons\">\n",
              "\n",
              "  <div class=\"colab-df-container\">\n",
              "    <button class=\"colab-df-convert\" onclick=\"convertToInteractive('df-71c64cb6-1e56-464d-a9d9-dc721880130f')\"\n",
              "            title=\"Convert this dataframe to an interactive table.\"\n",
              "            style=\"display:none;\">\n",
              "\n",
              "  <svg xmlns=\"http://www.w3.org/2000/svg\" height=\"24px\" viewBox=\"0 -960 960 960\">\n",
              "    <path d=\"M120-120v-720h720v720H120Zm60-500h600v-160H180v160Zm220 220h160v-160H400v160Zm0 220h160v-160H400v160ZM180-400h160v-160H180v160Zm440 0h160v-160H620v160ZM180-180h160v-160H180v160Zm440 0h160v-160H620v160Z\"/>\n",
              "  </svg>\n",
              "    </button>\n",
              "\n",
              "  <style>\n",
              "    .colab-df-container {\n",
              "      display:flex;\n",
              "      gap: 12px;\n",
              "    }\n",
              "\n",
              "    .colab-df-convert {\n",
              "      background-color: #E8F0FE;\n",
              "      border: none;\n",
              "      border-radius: 50%;\n",
              "      cursor: pointer;\n",
              "      display: none;\n",
              "      fill: #1967D2;\n",
              "      height: 32px;\n",
              "      padding: 0 0 0 0;\n",
              "      width: 32px;\n",
              "    }\n",
              "\n",
              "    .colab-df-convert:hover {\n",
              "      background-color: #E2EBFA;\n",
              "      box-shadow: 0px 1px 2px rgba(60, 64, 67, 0.3), 0px 1px 3px 1px rgba(60, 64, 67, 0.15);\n",
              "      fill: #174EA6;\n",
              "    }\n",
              "\n",
              "    .colab-df-buttons div {\n",
              "      margin-bottom: 4px;\n",
              "    }\n",
              "\n",
              "    [theme=dark] .colab-df-convert {\n",
              "      background-color: #3B4455;\n",
              "      fill: #D2E3FC;\n",
              "    }\n",
              "\n",
              "    [theme=dark] .colab-df-convert:hover {\n",
              "      background-color: #434B5C;\n",
              "      box-shadow: 0px 1px 3px 1px rgba(0, 0, 0, 0.15);\n",
              "      filter: drop-shadow(0px 1px 2px rgba(0, 0, 0, 0.3));\n",
              "      fill: #FFFFFF;\n",
              "    }\n",
              "  </style>\n",
              "\n",
              "    <script>\n",
              "      const buttonEl =\n",
              "        document.querySelector('#df-71c64cb6-1e56-464d-a9d9-dc721880130f button.colab-df-convert');\n",
              "      buttonEl.style.display =\n",
              "        google.colab.kernel.accessAllowed ? 'block' : 'none';\n",
              "\n",
              "      async function convertToInteractive(key) {\n",
              "        const element = document.querySelector('#df-71c64cb6-1e56-464d-a9d9-dc721880130f');\n",
              "        const dataTable =\n",
              "          await google.colab.kernel.invokeFunction('convertToInteractive',\n",
              "                                                    [key], {});\n",
              "        if (!dataTable) return;\n",
              "\n",
              "        const docLinkHtml = 'Like what you see? Visit the ' +\n",
              "          '<a target=\"_blank\" href=https://colab.research.google.com/notebooks/data_table.ipynb>data table notebook</a>'\n",
              "          + ' to learn more about interactive tables.';\n",
              "        element.innerHTML = '';\n",
              "        dataTable['output_type'] = 'display_data';\n",
              "        await google.colab.output.renderOutput(dataTable, element);\n",
              "        const docLink = document.createElement('div');\n",
              "        docLink.innerHTML = docLinkHtml;\n",
              "        element.appendChild(docLink);\n",
              "      }\n",
              "    </script>\n",
              "  </div>\n",
              "\n",
              "\n",
              "<div id=\"df-9bb7066b-ccdd-4937-a2aa-e753c4ba9912\">\n",
              "  <button class=\"colab-df-quickchart\" onclick=\"quickchart('df-9bb7066b-ccdd-4937-a2aa-e753c4ba9912')\"\n",
              "            title=\"Suggest charts\"\n",
              "            style=\"display:none;\">\n",
              "\n",
              "<svg xmlns=\"http://www.w3.org/2000/svg\" height=\"24px\"viewBox=\"0 0 24 24\"\n",
              "     width=\"24px\">\n",
              "    <g>\n",
              "        <path d=\"M19 3H5c-1.1 0-2 .9-2 2v14c0 1.1.9 2 2 2h14c1.1 0 2-.9 2-2V5c0-1.1-.9-2-2-2zM9 17H7v-7h2v7zm4 0h-2V7h2v10zm4 0h-2v-4h2v4z\"/>\n",
              "    </g>\n",
              "</svg>\n",
              "  </button>\n",
              "\n",
              "<style>\n",
              "  .colab-df-quickchart {\n",
              "      --bg-color: #E8F0FE;\n",
              "      --fill-color: #1967D2;\n",
              "      --hover-bg-color: #E2EBFA;\n",
              "      --hover-fill-color: #174EA6;\n",
              "      --disabled-fill-color: #AAA;\n",
              "      --disabled-bg-color: #DDD;\n",
              "  }\n",
              "\n",
              "  [theme=dark] .colab-df-quickchart {\n",
              "      --bg-color: #3B4455;\n",
              "      --fill-color: #D2E3FC;\n",
              "      --hover-bg-color: #434B5C;\n",
              "      --hover-fill-color: #FFFFFF;\n",
              "      --disabled-bg-color: #3B4455;\n",
              "      --disabled-fill-color: #666;\n",
              "  }\n",
              "\n",
              "  .colab-df-quickchart {\n",
              "    background-color: var(--bg-color);\n",
              "    border: none;\n",
              "    border-radius: 50%;\n",
              "    cursor: pointer;\n",
              "    display: none;\n",
              "    fill: var(--fill-color);\n",
              "    height: 32px;\n",
              "    padding: 0;\n",
              "    width: 32px;\n",
              "  }\n",
              "\n",
              "  .colab-df-quickchart:hover {\n",
              "    background-color: var(--hover-bg-color);\n",
              "    box-shadow: 0 1px 2px rgba(60, 64, 67, 0.3), 0 1px 3px 1px rgba(60, 64, 67, 0.15);\n",
              "    fill: var(--button-hover-fill-color);\n",
              "  }\n",
              "\n",
              "  .colab-df-quickchart-complete:disabled,\n",
              "  .colab-df-quickchart-complete:disabled:hover {\n",
              "    background-color: var(--disabled-bg-color);\n",
              "    fill: var(--disabled-fill-color);\n",
              "    box-shadow: none;\n",
              "  }\n",
              "\n",
              "  .colab-df-spinner {\n",
              "    border: 2px solid var(--fill-color);\n",
              "    border-color: transparent;\n",
              "    border-bottom-color: var(--fill-color);\n",
              "    animation:\n",
              "      spin 1s steps(1) infinite;\n",
              "  }\n",
              "\n",
              "  @keyframes spin {\n",
              "    0% {\n",
              "      border-color: transparent;\n",
              "      border-bottom-color: var(--fill-color);\n",
              "      border-left-color: var(--fill-color);\n",
              "    }\n",
              "    20% {\n",
              "      border-color: transparent;\n",
              "      border-left-color: var(--fill-color);\n",
              "      border-top-color: var(--fill-color);\n",
              "    }\n",
              "    30% {\n",
              "      border-color: transparent;\n",
              "      border-left-color: var(--fill-color);\n",
              "      border-top-color: var(--fill-color);\n",
              "      border-right-color: var(--fill-color);\n",
              "    }\n",
              "    40% {\n",
              "      border-color: transparent;\n",
              "      border-right-color: var(--fill-color);\n",
              "      border-top-color: var(--fill-color);\n",
              "    }\n",
              "    60% {\n",
              "      border-color: transparent;\n",
              "      border-right-color: var(--fill-color);\n",
              "    }\n",
              "    80% {\n",
              "      border-color: transparent;\n",
              "      border-right-color: var(--fill-color);\n",
              "      border-bottom-color: var(--fill-color);\n",
              "    }\n",
              "    90% {\n",
              "      border-color: transparent;\n",
              "      border-bottom-color: var(--fill-color);\n",
              "    }\n",
              "  }\n",
              "</style>\n",
              "\n",
              "  <script>\n",
              "    async function quickchart(key) {\n",
              "      const quickchartButtonEl =\n",
              "        document.querySelector('#' + key + ' button');\n",
              "      quickchartButtonEl.disabled = true;  // To prevent multiple clicks.\n",
              "      quickchartButtonEl.classList.add('colab-df-spinner');\n",
              "      try {\n",
              "        const charts = await google.colab.kernel.invokeFunction(\n",
              "            'suggestCharts', [key], {});\n",
              "      } catch (error) {\n",
              "        console.error('Error during call to suggestCharts:', error);\n",
              "      }\n",
              "      quickchartButtonEl.classList.remove('colab-df-spinner');\n",
              "      quickchartButtonEl.classList.add('colab-df-quickchart-complete');\n",
              "    }\n",
              "    (() => {\n",
              "      let quickchartButtonEl =\n",
              "        document.querySelector('#df-9bb7066b-ccdd-4937-a2aa-e753c4ba9912 button');\n",
              "      quickchartButtonEl.style.display =\n",
              "        google.colab.kernel.accessAllowed ? 'block' : 'none';\n",
              "    })();\n",
              "  </script>\n",
              "</div>\n",
              "    </div>\n",
              "  </div>\n"
            ],
            "application/vnd.google.colaboratory.intrinsic+json": {
              "type": "dataframe",
              "variable_name": "df",
              "summary": "{\n  \"name\": \"df\",\n  \"rows\": 144,\n  \"fields\": [\n    {\n      \"column\": \"Month\",\n      \"properties\": {\n        \"dtype\": \"object\",\n        \"num_unique_values\": 144,\n        \"samples\": [\n          \"1958-10\",\n          \"1950-08\",\n          \"1955-11\"\n        ],\n        \"semantic_type\": \"\",\n        \"description\": \"\"\n      }\n    },\n    {\n      \"column\": \"#Passengers\",\n      \"properties\": {\n        \"dtype\": \"number\",\n        \"std\": 119,\n        \"min\": 104,\n        \"max\": 622,\n        \"num_unique_values\": 118,\n        \"samples\": [\n          293,\n          340,\n          121\n        ],\n        \"semantic_type\": \"\",\n        \"description\": \"\"\n      }\n    }\n  ]\n}"
            }
          },
          "metadata": {},
          "execution_count": 5
        }
      ]
    },
    {
      "cell_type": "code",
      "source": [
        "df.info()"
      ],
      "metadata": {
        "colab": {
          "base_uri": "https://localhost:8080/"
        },
        "id": "I-sLaMi80GmL",
        "outputId": "46eeb5eb-3466-411d-db61-9e2fc39c92eb"
      },
      "execution_count": 7,
      "outputs": [
        {
          "output_type": "stream",
          "name": "stdout",
          "text": [
            "<class 'pandas.core.frame.DataFrame'>\n",
            "RangeIndex: 144 entries, 0 to 143\n",
            "Data columns (total 2 columns):\n",
            " #   Column       Non-Null Count  Dtype \n",
            "---  ------       --------------  ----- \n",
            " 0   Month        144 non-null    object\n",
            " 1   #Passengers  144 non-null    int64 \n",
            "dtypes: int64(1), object(1)\n",
            "memory usage: 2.4+ KB\n"
          ]
        }
      ]
    },
    {
      "cell_type": "markdown",
      "source": [
        "This dataset includes:\n",
        "* 144 samples (12 years);\n",
        "* Monthly Sampled - Long Term;\n",
        "* the plot of the distribution of the time series is below. We notice that the staitonarity is covered withtin 15 values (Will be used as sequence length)"
      ],
      "metadata": {
        "id": "hfZaVVUR4S0Z"
      }
    },
    {
      "cell_type": "code",
      "source": [
        "plt.xlabel(\"Month\")\n",
        "plt.ylabel(\"Number of Passengers per Month\")\n",
        "plt.plot(df[\"#Passengers\"])\n",
        "plt.title(\"Distribution of the Number of Passenger over 12 years\")"
      ],
      "metadata": {
        "colab": {
          "base_uri": "https://localhost:8080/",
          "height": 489
        },
        "id": "EvbPm9i_4EnX",
        "outputId": "e0eefcb9-6573-4971-aa1d-b7c92b72658e"
      },
      "execution_count": 8,
      "outputs": [
        {
          "output_type": "execute_result",
          "data": {
            "text/plain": [
              "Text(0.5, 1.0, 'Distribution of the Number of Passenger over 12 years')"
            ]
          },
          "metadata": {},
          "execution_count": 8
        },
        {
          "output_type": "display_data",
          "data": {
            "text/plain": [
              "<Figure size 640x480 with 1 Axes>"
            ],
            "image/png": "[encoded data removed]"
          },
          "metadata": {}
        }
      ]
    },
    {
      "cell_type": "markdown",
      "source": [
        "# **Step 2 - Data preparation**"
      ],
      "metadata": {
        "id": "6YWfsqcD78Io"
      }
    },
    {
      "cell_type": "markdown",
      "source": [
        "The goal of this step is to:\n",
        "* Construct the X and Y where X denotes the matrix features and y is the label vector;\n",
        "* Split dataset into training set and testing set: X_train,X_test,y_train,y_test."
      ],
      "metadata": {
        "id": "bedno4F_8Ixc"
      }
    },
    {
      "cell_type": "markdown",
      "source": [
        "## **2.2. Data Loading**"
      ],
      "metadata": {
        "id": "cryDEezk8aNv"
      }
    },
    {
      "cell_type": "code",
      "source": [
        "def load_data(data,seq_len):\n",
        "  X=[]\n",
        "  y=[]\n",
        "  for i in range(seq_len,len(data)):\n",
        "    X.append(data.iloc[i-seq_len:i,1])\n",
        "    y.append(data.iloc[i,1])\n",
        "  return X,y\n",
        "X,y=load_data(df,25)"
      ],
      "metadata": {
        "id": "cs3ekuS-4s76"
      },
      "execution_count": 9,
      "outputs": []
    },
    {
      "cell_type": "markdown",
      "source": [
        "## **2.2. Data Split**"
      ],
      "metadata": {
        "id": "w-nOmrxE_KLd"
      }
    },
    {
      "cell_type": "markdown",
      "source": [
        "We split the dataset into 80% for train and 20% for test"
      ],
      "metadata": {
        "id": "zcNe-idW_rFq"
      }
    },
    {
      "cell_type": "code",
      "source": [
        "train_size=len(y)*0.8\n",
        "train_size=104"
      ],
      "metadata": {
        "id": "2An8cO-b_wS_"
      },
      "execution_count": 10,
      "outputs": []
    },
    {
      "cell_type": "code",
      "source": [
        "X_train=X[:train_size]\n",
        "y_train=y[:train_size]\n",
        "X_test=X[train_size:]\n",
        "y_test=y[train_size:]"
      ],
      "metadata": {
        "id": "2JEvP3v8_EK-"
      },
      "execution_count": 24,
      "outputs": []
    },
    {
      "cell_type": "code",
      "source": [],
      "metadata": {
        "colab": {
          "base_uri": "https://localhost:8080/"
        },
        "id": "ZMkGnsA7on47",
        "outputId": "e8c8ce15-2a5c-435b-8944-5bc781a3786b"
      },
      "execution_count": 28,
      "outputs": [
        {
          "output_type": "execute_result",
          "data": {
            "text/plain": [
              "list"
            ]
          },
          "metadata": {},
          "execution_count": 28
        }
      ]
    },
    {
      "cell_type": "code",
      "source": [
        "import numpy as np\n",
        "X_train=np.array(X_train)\n",
        "y_train=np.array(y_train)\n",
        "y_test=np.array(y_test)\n",
        "X_test=np.array(X_test)\n",
        "X_train=X_train.reshape(104,25,1)\n",
        "X_test=X_test.reshape(15,25,1)"
      ],
      "metadata": {
        "id": "y3vKc8vsm5F2"
      },
      "execution_count": 29,
      "outputs": []
    },
    {
      "cell_type": "markdown",
      "source": [
        "# **Step 3- Machine Learning**"
      ],
      "metadata": {
        "id": "XBU356f-BzJm"
      }
    },
    {
      "cell_type": "code",
      "source": [
        "model=Sequential()\n",
        "model.add(LSTM(20,input_shape=(25,1)))\n",
        "model.add(Dense(100))\n",
        "model.add(Dense(1))"
      ],
      "metadata": {
        "id": "n44DUab2B23Q"
      },
      "execution_count": 30,
      "outputs": []
    },
    {
      "cell_type": "code",
      "source": [
        "model.compile(loss='mean_squared_error', optimizer='adam')\n",
        "model.fit(X_train, y_train, epochs=100, batch_size=2, verbose=2)"
      ],
      "metadata": {
        "colab": {
          "base_uri": "https://localhost:8080/"
        },
        "id": "M5MR4hzhnUEG",
        "outputId": "2a732bcf-4a8a-436b-fac2-d2c4bd1ad8f3"
      },
      "execution_count": 31,
      "outputs": [
        {
          "output_type": "stream",
          "name": "stdout",
          "text": [
            "Epoch 1/100\n",
            "52/52 - 3s - loss: 90968.3906 - 3s/epoch - 50ms/step\n",
            "Epoch 2/100\n",
            "52/52 - 0s - loss: 84572.0859 - 374ms/epoch - 7ms/step\n",
            "Epoch 3/100\n",
            "52/52 - 0s - loss: 67871.4219 - 343ms/epoch - 7ms/step\n",
            "Epoch 4/100\n",
            "52/52 - 0s - loss: 46683.1016 - 367ms/epoch - 7ms/step\n",
            "Epoch 5/100\n",
            "52/52 - 0s - loss: 28701.1113 - 376ms/epoch - 7ms/step\n",
            "Epoch 6/100\n",
            "52/52 - 0s - loss: 16978.8086 - 358ms/epoch - 7ms/step\n",
            "Epoch 7/100\n",
            "52/52 - 0s - loss: 11481.0977 - 405ms/epoch - 8ms/step\n",
            "Epoch 8/100\n",
            "52/52 - 0s - loss: 9873.5215 - 498ms/epoch - 10ms/step\n",
            "Epoch 9/100\n",
            "52/52 - 0s - loss: 9608.4600 - 483ms/epoch - 9ms/step\n",
            "Epoch 10/100\n",
            "52/52 - 1s - loss: 8115.9590 - 500ms/epoch - 10ms/step\n",
            "Epoch 11/100\n",
            "52/52 - 0s - loss: 6395.1870 - 496ms/epoch - 10ms/step\n",
            "Epoch 12/100\n",
            "52/52 - 1s - loss: 5312.0649 - 536ms/epoch - 10ms/step\n",
            "Epoch 13/100\n",
            "52/52 - 1s - loss: 4263.9170 - 569ms/epoch - 11ms/step\n",
            "Epoch 14/100\n",
            "52/52 - 0s - loss: 3693.8086 - 493ms/epoch - 9ms/step\n",
            "Epoch 15/100\n",
            "52/52 - 0s - loss: 3114.0103 - 345ms/epoch - 7ms/step\n",
            "Epoch 16/100\n",
            "52/52 - 0s - loss: 2675.0083 - 364ms/epoch - 7ms/step\n",
            "Epoch 17/100\n",
            "52/52 - 0s - loss: 2259.1663 - 339ms/epoch - 7ms/step\n",
            "Epoch 18/100\n",
            "52/52 - 0s - loss: 2072.4070 - 353ms/epoch - 7ms/step\n",
            "Epoch 19/100\n",
            "52/52 - 0s - loss: 1827.8911 - 354ms/epoch - 7ms/step\n",
            "Epoch 20/100\n",
            "52/52 - 0s - loss: 2042.6825 - 354ms/epoch - 7ms/step\n",
            "Epoch 21/100\n",
            "52/52 - 0s - loss: 1855.3602 - 351ms/epoch - 7ms/step\n",
            "Epoch 22/100\n",
            "52/52 - 0s - loss: 1671.3660 - 365ms/epoch - 7ms/step\n",
            "Epoch 23/100\n",
            "52/52 - 0s - loss: 1700.8354 - 356ms/epoch - 7ms/step\n",
            "Epoch 24/100\n",
            "52/52 - 0s - loss: 1466.7238 - 352ms/epoch - 7ms/step\n",
            "Epoch 25/100\n",
            "52/52 - 0s - loss: 1580.8392 - 414ms/epoch - 8ms/step\n",
            "Epoch 26/100\n",
            "52/52 - 0s - loss: 1845.8560 - 340ms/epoch - 7ms/step\n",
            "Epoch 27/100\n",
            "52/52 - 0s - loss: 1358.8735 - 329ms/epoch - 6ms/step\n",
            "Epoch 28/100\n",
            "52/52 - 0s - loss: 1440.0854 - 360ms/epoch - 7ms/step\n",
            "Epoch 29/100\n",
            "52/52 - 0s - loss: 1290.0839 - 335ms/epoch - 6ms/step\n",
            "Epoch 30/100\n",
            "52/52 - 0s - loss: 1270.0488 - 371ms/epoch - 7ms/step\n",
            "Epoch 31/100\n",
            "52/52 - 0s - loss: 1269.8208 - 348ms/epoch - 7ms/step\n",
            "Epoch 32/100\n",
            "52/52 - 0s - loss: 1209.7013 - 353ms/epoch - 7ms/step\n",
            "Epoch 33/100\n",
            "52/52 - 0s - loss: 1250.8221 - 361ms/epoch - 7ms/step\n",
            "Epoch 34/100\n",
            "52/52 - 0s - loss: 1316.7369 - 352ms/epoch - 7ms/step\n",
            "Epoch 35/100\n",
            "52/52 - 0s - loss: 1305.0139 - 358ms/epoch - 7ms/step\n",
            "Epoch 36/100\n",
            "52/52 - 0s - loss: 1230.3607 - 357ms/epoch - 7ms/step\n",
            "Epoch 37/100\n",
            "52/52 - 0s - loss: 1169.4224 - 359ms/epoch - 7ms/step\n",
            "Epoch 38/100\n",
            "52/52 - 0s - loss: 1263.2006 - 359ms/epoch - 7ms/step\n",
            "Epoch 39/100\n",
            "52/52 - 0s - loss: 1252.4432 - 373ms/epoch - 7ms/step\n",
            "Epoch 40/100\n",
            "52/52 - 0s - loss: 1195.5377 - 498ms/epoch - 10ms/step\n",
            "Epoch 41/100\n",
            "52/52 - 1s - loss: 1143.0714 - 523ms/epoch - 10ms/step\n",
            "Epoch 42/100\n",
            "52/52 - 1s - loss: 1235.3700 - 501ms/epoch - 10ms/step\n",
            "Epoch 43/100\n",
            "52/52 - 1s - loss: 1096.6196 - 520ms/epoch - 10ms/step\n",
            "Epoch 44/100\n",
            "52/52 - 1s - loss: 1171.7332 - 530ms/epoch - 10ms/step\n",
            "Epoch 45/100\n",
            "52/52 - 0s - loss: 1123.0007 - 471ms/epoch - 9ms/step\n",
            "Epoch 46/100\n",
            "52/52 - 0s - loss: 1058.9128 - 358ms/epoch - 7ms/step\n",
            "Epoch 47/100\n",
            "52/52 - 0s - loss: 1191.8027 - 346ms/epoch - 7ms/step\n",
            "Epoch 48/100\n",
            "52/52 - 0s - loss: 1038.9546 - 370ms/epoch - 7ms/step\n",
            "Epoch 49/100\n",
            "52/52 - 0s - loss: 1057.4865 - 354ms/epoch - 7ms/step\n",
            "Epoch 50/100\n",
            "52/52 - 0s - loss: 1063.9080 - 346ms/epoch - 7ms/step\n",
            "Epoch 51/100\n",
            "52/52 - 0s - loss: 1051.0901 - 365ms/epoch - 7ms/step\n",
            "Epoch 52/100\n",
            "52/52 - 0s - loss: 1179.7766 - 383ms/epoch - 7ms/step\n",
            "Epoch 53/100\n",
            "52/52 - 0s - loss: 1011.0839 - 339ms/epoch - 7ms/step\n",
            "Epoch 54/100\n",
            "52/52 - 0s - loss: 1002.3528 - 352ms/epoch - 7ms/step\n",
            "Epoch 55/100\n",
            "52/52 - 0s - loss: 1005.9581 - 347ms/epoch - 7ms/step\n",
            "Epoch 56/100\n",
            "52/52 - 0s - loss: 1074.8029 - 345ms/epoch - 7ms/step\n",
            "Epoch 57/100\n",
            "52/52 - 0s - loss: 1154.3494 - 365ms/epoch - 7ms/step\n",
            "Epoch 58/100\n",
            "52/52 - 0s - loss: 1269.8136 - 341ms/epoch - 7ms/step\n",
            "Epoch 59/100\n",
            "52/52 - 0s - loss: 1006.0273 - 358ms/epoch - 7ms/step\n",
            "Epoch 60/100\n",
            "52/52 - 0s - loss: 923.3461 - 363ms/epoch - 7ms/step\n",
            "Epoch 61/100\n",
            "52/52 - 0s - loss: 1104.6998 - 363ms/epoch - 7ms/step\n",
            "Epoch 62/100\n",
            "52/52 - 0s - loss: 1133.9108 - 372ms/epoch - 7ms/step\n",
            "Epoch 63/100\n",
            "52/52 - 0s - loss: 1152.1718 - 358ms/epoch - 7ms/step\n",
            "Epoch 64/100\n",
            "52/52 - 0s - loss: 1039.8142 - 348ms/epoch - 7ms/step\n",
            "Epoch 65/100\n",
            "52/52 - 0s - loss: 1089.6521 - 368ms/epoch - 7ms/step\n",
            "Epoch 66/100\n",
            "52/52 - 0s - loss: 1086.8923 - 355ms/epoch - 7ms/step\n",
            "Epoch 67/100\n",
            "52/52 - 0s - loss: 1045.0488 - 357ms/epoch - 7ms/step\n",
            "Epoch 68/100\n",
            "52/52 - 0s - loss: 946.4590 - 366ms/epoch - 7ms/step\n",
            "Epoch 69/100\n",
            "52/52 - 0s - loss: 1033.7073 - 350ms/epoch - 7ms/step\n",
            "Epoch 70/100\n",
            "52/52 - 0s - loss: 1006.9519 - 346ms/epoch - 7ms/step\n",
            "Epoch 71/100\n",
            "52/52 - 0s - loss: 1034.9503 - 371ms/epoch - 7ms/step\n",
            "Epoch 72/100\n",
            "52/52 - 0s - loss: 1537.0265 - 361ms/epoch - 7ms/step\n",
            "Epoch 73/100\n",
            "52/52 - 0s - loss: 921.5691 - 448ms/epoch - 9ms/step\n",
            "Epoch 74/100\n",
            "52/52 - 1s - loss: 1143.9993 - 501ms/epoch - 10ms/step\n",
            "Epoch 75/100\n",
            "52/52 - 0s - loss: 936.3093 - 492ms/epoch - 9ms/step\n",
            "Epoch 76/100\n",
            "52/52 - 0s - loss: 1105.7908 - 488ms/epoch - 9ms/step\n",
            "Epoch 77/100\n",
            "52/52 - 1s - loss: 1209.9321 - 783ms/epoch - 15ms/step\n",
            "Epoch 78/100\n",
            "52/52 - 1s - loss: 1035.3612 - 674ms/epoch - 13ms/step\n",
            "Epoch 79/100\n",
            "52/52 - 1s - loss: 942.0020 - 639ms/epoch - 12ms/step\n",
            "Epoch 80/100\n",
            "52/52 - 1s - loss: 930.4042 - 511ms/epoch - 10ms/step\n",
            "Epoch 81/100\n",
            "52/52 - 0s - loss: 935.2935 - 458ms/epoch - 9ms/step\n",
            "Epoch 82/100\n",
            "52/52 - 0s - loss: 994.5956 - 339ms/epoch - 7ms/step\n",
            "Epoch 83/100\n",
            "52/52 - 0s - loss: 914.5826 - 371ms/epoch - 7ms/step\n",
            "Epoch 84/100\n",
            "52/52 - 0s - loss: 949.1085 - 358ms/epoch - 7ms/step\n",
            "Epoch 85/100\n",
            "52/52 - 0s - loss: 1059.2147 - 378ms/epoch - 7ms/step\n",
            "Epoch 86/100\n",
            "52/52 - 0s - loss: 1087.6035 - 388ms/epoch - 7ms/step\n",
            "Epoch 87/100\n",
            "52/52 - 1s - loss: 860.9355 - 575ms/epoch - 11ms/step\n",
            "Epoch 88/100\n",
            "52/52 - 1s - loss: 982.8277 - 539ms/epoch - 10ms/step\n",
            "Epoch 89/100\n",
            "52/52 - 1s - loss: 899.8717 - 518ms/epoch - 10ms/step\n",
            "Epoch 90/100\n",
            "52/52 - 0s - loss: 1131.7533 - 483ms/epoch - 9ms/step\n",
            "Epoch 91/100\n",
            "52/52 - 0s - loss: 1121.0264 - 338ms/epoch - 6ms/step\n",
            "Epoch 92/100\n",
            "52/52 - 0s - loss: 989.2173 - 356ms/epoch - 7ms/step\n",
            "Epoch 93/100\n",
            "52/52 - 1s - loss: 1005.7034 - 565ms/epoch - 11ms/step\n",
            "Epoch 94/100\n",
            "52/52 - 0s - loss: 995.6472 - 431ms/epoch - 8ms/step\n",
            "Epoch 95/100\n",
            "52/52 - 1s - loss: 1002.4844 - 569ms/epoch - 11ms/step\n",
            "Epoch 96/100\n",
            "52/52 - 1s - loss: 1042.2963 - 696ms/epoch - 13ms/step\n",
            "Epoch 97/100\n",
            "52/52 - 1s - loss: 977.8450 - 717ms/epoch - 14ms/step\n",
            "Epoch 98/100\n",
            "52/52 - 1s - loss: 935.0507 - 742ms/epoch - 14ms/step\n",
            "Epoch 99/100\n",
            "52/52 - 1s - loss: 1049.1448 - 592ms/epoch - 11ms/step\n",
            "Epoch 100/100\n",
            "52/52 - 1s - loss: 1273.6183 - 701ms/epoch - 13ms/step\n"
          ]
        },
        {
          "output_type": "execute_result",
          "data": {
            "text/plain": [
              "<keras.src.callbacks.History at 0x7a10bc2f3820>"
            ]
          },
          "metadata": {},
          "execution_count": 31
        }
      ]
    },
    {
      "cell_type": "markdown",
      "source": [
        "# **Step 4- Performance Evaluation**"
      ],
      "metadata": {
        "id": "OsGZhA6HCkLz"
      }
    },
    {
      "cell_type": "code",
      "source": [
        "print(\" **** Performance of LSTM *****\")\n",
        "y_pred_lstm=model.predict(X_test)\n",
        "mse=mean_squared_error(y_test,y_pred_lstm)\n",
        "mae=mean_absolute_error(y_test,y_pred_lstm)\n",
        "mape=mean_absolute_percentage_error(y_test,y_pred_lstm)\n",
        "print(\"MSE= \",mse)\n",
        "print(\"MAE= \",mae)\n",
        "print(\"MAPEE= \",mape)\n"
      ],
      "metadata": {
        "colab": {
          "base_uri": "https://localhost:8080/"
        },
        "id": "CgqrgysDCfFc",
        "outputId": "57dc3c1b-853f-4a34-8a0e-076f11997db3"
      },
      "execution_count": 32,
      "outputs": [
        {
          "output_type": "stream",
          "name": "stdout",
          "text": [
            " **** Performance of LSTM *****\n",
            "1/1 [==============================] - 1s 501ms/step\n",
            "MSE=  3153.55969980446\n",
            "MAE=  42.956441243489586\n",
            "MAPEE=  0.09261447926003036\n"
          ]
        }
      ]
    },
    {
      "cell_type": "code",
      "source": [
        "plt.xlabel(\"Month\")\n",
        "plt.ylabel(\"Number of Passenger\")\n",
        "plt.plot(y_test,color='red',label='Real')\n",
        "plt.plot(y_pred_lstm,color='blue',label='LSTM Regression')\n",
        "plt.title(\"ML Experimental Study for Airline Passengers Forecasting\")\n",
        "plt.legend()"
      ],
      "metadata": {
        "colab": {
          "base_uri": "https://localhost:8080/",
          "height": 489
        },
        "id": "_rqeN1BUDBr5",
        "outputId": "fb6d6d50-becf-42bb-bd0b-716e6d449614"
      },
      "execution_count": 34,
      "outputs": [
        {
          "output_type": "execute_result",
          "data": {
            "text/plain": [
              "<matplotlib.legend.Legend at 0x7a10aed523b0>"
            ]
          },
          "metadata": {},
          "execution_count": 34
        },
        {
          "output_type": "display_data",
          "data": {
            "text/plain": [
              "<Figure size 640x480 with 1 Axes>"
            ],
            "image/png": "[encoded data removed]"
          },
          "metadata": {}
        }
      ]
    },
    {
      "cell_type": "code",
      "source": [],
      "metadata": {
        "id": "-TuyDVSGDZnF"
      },
      "execution_count": null,
      "outputs": []
    }
  ]
}