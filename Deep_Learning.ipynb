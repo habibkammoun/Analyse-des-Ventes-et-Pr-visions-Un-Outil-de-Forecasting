{
 "cells": [
  {
   "cell_type": "markdown",
   "metadata": {
    "id": "GHhJ3Q57zKY0"
   },
   "source": [
    "# **Packages' Import**"
   ]
  },
  {
   "cell_type": "code",
   "execution_count": null,
   "metadata": {
    "id": "fTLye-DwzRaD"
   },
   "outputs": [],
   "source": [
    "import pandas            as pd                                   # Library for Read/Write IO File (CSV, Excel, TXT, JSON, etc.)\n",
    "import matplotlib.pyplot as plt                                  # Library for plotting and figures\n",
    "from tensorflow.keras.models import Sequential                   # Importation of sequantial Model for LSTM\n",
    "from tensorflow.keras.layers import LSTM,Dense,Dropout           # Importation of LSTM Units\n",
    "from sklearn.metrics        import mean_squared_error            # Mean Squared Error for forecasting performance evaluation\n",
    "from sklearn.metrics        import mean_absolute_error           # Mean Absolute Error for forecasting performance evaluation\n",
    "from sklearn.metrics        import mean_absolute_percentage_error# MAPE for evaluation the percentage of error\n",
    "from sklearn.preprocessing  import MinMaxScaler"
   ]
  },
  {
   "cell_type": "markdown",
   "metadata": {
    "id": "7pSuWj2Szyp9"
   },
   "source": [
    "# **Step 1 - Business & Data Understanding**"
   ]
  },
  {
   "cell_type": "markdown",
   "metadata": {
    "id": "t3SoI8lp1AsM"
   },
   "source": [
    "The goal of this step is to:\n",
    "* identify the number of samples;\n",
    "* identify the type of forecasting;\n",
    "* study the stationarity of your time series.\n"
   ]
  },
  {
   "cell_type": "code",
   "execution_count": null,
   "metadata": {
    "colab": {
     "base_uri": "https://localhost:8080/",
     "height": 206
    },
    "id": "BoXorDCkzxR4",
    "outputId": "99c09c45-16ef-4e16-8b96-ce7ef1cb6f46"
   },
   "outputs": [],
   "source": [
    "df=pd.read_csv(\"Retail Sales Dataset - MiniProjet.csv\")        # Read dataset using read_csv(filepath) function\n",
    "df.head()                                               # Display the first five rows"
   ]
  },
  {
   "cell_type": "code",
   "execution_count": null,
   "metadata": {
    "colab": {
     "base_uri": "https://localhost:8080/"
    },
    "id": "I-sLaMi80GmL",
    "outputId": "46eeb5eb-3466-411d-db61-9e2fc39c92eb"
   },
   "outputs": [],
   "source": [
    "df.info()"
   ]
  },
  {
   "cell_type": "markdown",
   "metadata": {
    "id": "hfZaVVUR4S0Z"
   },
   "source": [
    "This dataset includes:\n",
    "* 937 samples (2.5 years);\n",
    "* Daily Sampled - Short Term;\n"
   ]
  },
  {
   "cell_type": "code",
   "execution_count": null,
   "metadata": {
    "colab": {
     "base_uri": "https://localhost:8080/",
     "height": 489
    },
    "id": "EvbPm9i_4EnX",
    "outputId": "e0eefcb9-6573-4971-aa1d-b7c92b72658e"
   },
   "outputs": [],
   "source": [
    "plt.xlabel(\"Day\")\n",
    "plt.ylabel(\"Number of Sales per day\")\n",
    "plt.plot(df[\"Sales\"])\n",
    "plt.title(\"Distribution of the Sales over 2.5 years\")"
   ]
  },
  {
   "cell_type": "markdown",
   "metadata": {
    "id": "6YWfsqcD78Io"
   },
   "source": [
    "# **Step 2 - Data preparation**"
   ]
  },
  {
   "cell_type": "markdown",
   "metadata": {
    "id": "bedno4F_8Ixc"
   },
   "source": [
    "The goal of this step is to:\n",
    "* Construct the X and Y where X denotes the matrix features and y is the label vector;\n",
    "* Split dataset into training set and testing set: X_train,X_test,y_train,y_test."
   ]
  },
  {
   "cell_type": "markdown",
   "metadata": {
    "id": "cryDEezk8aNv"
   },
   "source": [
    "## **2.2. Data Loading**"
   ]
  },
  {
   "cell_type": "code",
   "execution_count": null,
   "metadata": {},
   "outputs": [],
   "source": [
    "scaler = MinMaxScaler()\n",
    "data = scaler.fit_transform(data)"
   ]
  },
  {
   "cell_type": "code",
   "execution_count": null,
   "metadata": {
    "id": "cs3ekuS-4s76"
   },
   "outputs": [],
   "source": [
    "def load_data(data,seq_len):\n",
    "  X=[]\n",
    "  y=[]\n",
    "  for i in range(seq_len,len(data)):\n",
    "    X.append(data.iloc[i-seq_len:i,1])\n",
    "    y.append(data.iloc[i,1])\n",
    "  return X,y\n",
    "X,y=load_data(df,80)\n",
    "print(len(X))\n",
    "print(len(y))"
   ]
  },
  {
   "cell_type": "markdown",
   "metadata": {
    "id": "w-nOmrxE_KLd"
   },
   "source": [
    "## **2.2. Data Split**"
   ]
  },
  {
   "cell_type": "markdown",
   "metadata": {
    "id": "zcNe-idW_rFq"
   },
   "source": [
    "We split the dataset into 80% for train and 20% for test"
   ]
  },
  {
   "cell_type": "code",
   "execution_count": null,
   "metadata": {
    "id": "2An8cO-b_wS_"
   },
   "outputs": [],
   "source": [
    "train_size=len(y)*0.8\n",
    "print(train_size)"
   ]
  },
  {
   "cell_type": "code",
   "execution_count": null,
   "metadata": {},
   "outputs": [],
   "source": [
    "train_size=685"
   ]
  },
  {
   "cell_type": "code",
   "execution_count": null,
   "metadata": {
    "id": "2JEvP3v8_EK-"
   },
   "outputs": [],
   "source": [
    "X_train=X[:train_size]\n",
    "y_train=y[:train_size]\n",
    "X_test=X[train_size:]\n",
    "y_test=y[train_size:]"
   ]
  },
  {
   "cell_type": "code",
   "execution_count": null,
   "metadata": {
    "colab": {
     "base_uri": "https://localhost:8080/"
    },
    "id": "ZMkGnsA7on47",
    "outputId": "e8c8ce15-2a5c-435b-8944-5bc781a3786b"
   },
   "outputs": [],
   "source": [
    "print(len(y_train))\n",
    "print(len(y_test))"
   ]
  },
  {
   "cell_type": "code",
   "execution_count": null,
   "metadata": {
    "id": "y3vKc8vsm5F2"
   },
   "outputs": [],
   "source": [
    "import numpy as np\n",
    "X_train=np.array(X_train)\n",
    "y_train=np.array(y_train)\n",
    "y_test=np.array(y_test)\n",
    "X_test=np.array(X_test)\n",
    "X_train=X_train.reshape(685,80,1)\n",
    "X_test=X_test.reshape(172,80,1)"
   ]
  },
  {
   "cell_type": "markdown",
   "metadata": {
    "id": "XBU356f-BzJm"
   },
   "source": [
    "# **Step 3- Deep Learning**"
   ]
  },
  {
   "cell_type": "code",
   "execution_count": null,
   "metadata": {
    "id": "n44DUab2B23Q"
   },
   "outputs": [],
   "source": [
    "model=Sequential()\n",
    "model.add(LSTM(80,input_shape=(80,1)))\n",
    "model.add(Dense(100))\n",
    "model.add(Dense(1))"
   ]
  },
  {
   "cell_type": "code",
   "execution_count": null,
   "metadata": {
    "colab": {
     "base_uri": "https://localhost:8080/"
    },
    "id": "M5MR4hzhnUEG",
    "outputId": "2a732bcf-4a8a-436b-fac2-d2c4bd1ad8f3"
   },
   "outputs": [],
   "source": [
    "model.compile(loss='mean_squared_error', optimizer='adam')\n",
    "model.fit(X_train, y_train, epochs=100, batch_size=2, verbose=2, validation_data=(X_test, y_test))\n"
   ]
  },
  {
   "cell_type": "markdown",
   "metadata": {
    "id": "OsGZhA6HCkLz"
   },
   "source": [
    "# **Step 4- Performance Evaluation**"
   ]
  },
  {
   "cell_type": "code",
   "execution_count": null,
   "metadata": {
    "colab": {
     "base_uri": "https://localhost:8080/"
    },
    "id": "CgqrgysDCfFc",
    "outputId": "57dc3c1b-853f-4a34-8a0e-076f11997db3"
   },
   "outputs": [],
   "source": [
    "print(\" **** Performance of LSTM *****\")\n",
    "y_pred_lstm=model.predict(X_test)\n",
    "mse=mean_squared_error(y_test,y_pred_lstm)\n",
    "mae=mean_absolute_error(y_test,y_pred_lstm)\n",
    "mape=mean_absolute_percentage_error(y_test,y_pred_lstm)\n",
    "print(\"MSE= \",mse)\n",
    "print(\"MAE= \",mae)\n",
    "print(\"MAPEE= \",mape)\n"
   ]
  },
  {
   "cell_type": "code",
   "execution_count": null,
   "metadata": {
    "colab": {
     "base_uri": "https://localhost:8080/",
     "height": 489
    },
    "id": "_rqeN1BUDBr5",
    "outputId": "fb6d6d50-becf-42bb-bd0b-716e6d449614"
   },
   "outputs": [],
   "source": [
    "plt.xlabel(\"Month\")\n",
    "plt.ylabel(\"Number of Passenger\")\n",
    "plt.plot(y_test,color='red',label='Real')\n",
    "plt.plot(y_pred_lstm,color='blue',label='LSTM Regression')\n",
    "plt.title(\"ML Experimental Study for Airline Passengers Forecasting\")\n",
    "plt.legend()"
   ]
  }
 ],
 "metadata": {
  "colab": {
   "provenance": []
  },
  "kernelspec": {
   "display_name": "Python 3 (ipykernel)",
   "language": "python",
   "name": "python3"
  },
  "language_info": {
   "codemirror_mode": {
    "name": "ipython",
    "version": 3
   },
   "file_extension": ".py",
   "mimetype": "text/x-python",
   "name": "python",
   "nbconvert_exporter": "python",
   "pygments_lexer": "ipython3",
   "version": "3.9.18"
  }
 },
 "nbformat": 4,
 "nbformat_minor": 4
}
